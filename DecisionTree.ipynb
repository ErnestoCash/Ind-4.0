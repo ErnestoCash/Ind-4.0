{
  "nbformat": 4,
  "nbformat_minor": 0,
  "metadata": {
    "colab": {
      "provenance": [],
      "authorship_tag": "ABX9TyNfJ+mpAE3IZQrhceNrScPO",
      "include_colab_link": true
    },
    "kernelspec": {
      "name": "python3",
      "display_name": "Python 3"
    },
    "language_info": {
      "name": "python"
    }
  },
  "cells": [
    {
      "cell_type": "markdown",
      "metadata": {
        "id": "view-in-github",
        "colab_type": "text"
      },
      "source": [
        "<a href=\"https://colab.research.google.com/github/ErnestoCash/Ind-4.0/blob/main/DecisionTree.ipynb\" target=\"_parent\"><img src=\"https://colab.research.google.com/assets/colab-badge.svg\" alt=\"Open In Colab\"/></a>"
      ]
    },
    {
      "cell_type": "code",
      "execution_count": null,
      "metadata": {
        "id": "tE3C3vk-R62o"
      },
      "outputs": [],
      "source": [
        "import pandas as pd\n",
        "from sklearn.tree import DecisionTreeClassifier\n",
        "from sklearn.model_selection import train_test_split\n",
        "from sklearn.metrics import accuracy_score\n"
      ]
    },
    {
      "cell_type": "code",
      "source": [
        "#carga de conjunto de datos\n",
        "marketing_data = pd.read_csv('cerealtrain.csv',sep=';',encoding='latin1')\n",
        "#preprocesamientos de datos\n",
        "marketing_data = pd.get_dummies(marketin_data, columns=['edadcat','ecivil','genero','activo'])\n",
        "X = marketing _data.drop(['desayuno'],axis=1)\n",
        "y = marketing_data['desayuno']"
      ],
      "metadata": {
        "id": "hdu1fdgGiRkS"
      },
      "execution_count": null,
      "outputs": []
    },
    {
      "cell_type": "code",
      "source": [
        "#Creacion de objeto arbol de decision, ajustado a los datos de entrenamiento:\n",
        "X_train, X_test, y_train, y_test = train_test_split(X, y, test_size=1, random_state=42)"
      ],
      "metadata": {
        "id": "mOSUnzs5jHgq"
      },
      "execution_count": null,
      "outputs": []
    },
    {
      "cell_type": "code",
      "source": [
        "#predicciones en los datos de prueba y evaluación del modelo:\n",
        "tree = DecisionTreeClassifier(max_depth=3, random_state=42)\n",
        "tree.fit(X_train, y_train)"
      ],
      "metadata": {
        "id": "zOo0aGDZjxTa"
      },
      "execution_count": null,
      "outputs": []
    },
    {
      "cell_type": "code",
      "source": [
        "y_pred = tree.predict(X_test)\n",
        "accuracy = accuracy_score(y_test, y_pred)\n",
        "print(\"Accuracy: {:.2f}%\".format(accuracy*100))"
      ],
      "metadata": {
        "id": "xCOFZbgukGMX"
      },
      "execution_count": null,
      "outputs": []
    },
    {
      "cell_type": "code",
      "source": [
        "#visualización del árbol de decisión usando graphviz:\n",
        "from sklearn.tree import export_graphviz\n",
        "import graphviz\n",
        "dot_data = export_graphviz(tree, out_file=None, feature_names=X.columns,\n",
        "                           class_names=['Avena','BarraP','Cereales'],filled=True,\n",
        "                           rounded=True, special_characters=true)"
      ],
      "metadata": {
        "id": "W-6upSkLkY3b"
      },
      "execution_count": null,
      "outputs": []
    }
  ]
}