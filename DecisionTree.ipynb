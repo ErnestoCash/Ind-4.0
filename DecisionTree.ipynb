{
  "nbformat": 4,
  "nbformat_minor": 0,
  "metadata": {
    "colab": {
      "provenance": [],
      "authorship_tag": "ABX9TyPCzcLbqkij2gUrRPLOPDJY",
      "include_colab_link": true
    },
    "kernelspec": {
      "name": "python3",
      "display_name": "Python 3"
    },
    "language_info": {
      "name": "python"
    }
  },
  "cells": [
    {
      "cell_type": "markdown",
      "metadata": {
        "id": "view-in-github",
        "colab_type": "text"
      },
      "source": [
        "<a href=\"https://colab.research.google.com/github/ErnestoCash/Ind-4.0/blob/main/DecisionTree.ipynb\" target=\"_parent\"><img src=\"https://colab.research.google.com/assets/colab-badge.svg\" alt=\"Open In Colab\"/></a>"
      ]
    },
    {
      "cell_type": "code",
      "execution_count": null,
      "metadata": {
        "id": "tE3C3vk-R62o"
      },
      "outputs": [],
      "source": [
        "from sklearn.model_selection import train_test_split\n",
        "from sklearn.preprocessing import LabelEncoder\n",
        "\n",
        "# Initialize label encoders for each categorical column\n",
        "le_edadcat = LabelEncoder()\n",
        "le_genero = LabelEncoder()\n",
        "le_ecivil = LabelEncoder()\n",
        "le_activo = LabelEncoder()\n",
        "\n",
        "# Apply the encoders to the columns\n",
        "cereal_data['edadcat'] = le_edadcat.fit_transform(cereal_data['edadcat'])\n",
        "cereal_data['genero'] = le_genero.fit_transform(cereal_data['genero'])\n",
        "cereal_data['ecivil'] = le_ecivil.fit_transform(cereal_data['ecivil'])\n",
        "cereal_data['activo'] = le_activo.fit_transform(cereal_data['activo'])\n",
        "\n",
        "# Assuming 'desayuno' is the target\n",
        "y = cereal_data['desayuno']\n",
        "X = cereal_data.drop('desayuno', axis=1)\n",
        "\n",
        "# Split the data into training and testing sets\n",
        "X_train, X_test, y_train, y_test = train_test_split(X, y, test_size=0.2, random_state=42)\n"
      ]
    }
  ]
}