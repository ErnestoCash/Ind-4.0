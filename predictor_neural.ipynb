{
  "nbformat": 4,
  "nbformat_minor": 0,
  "metadata": {
    "colab": {
      "provenance": [],
      "authorship_tag": "ABX9TyPZ5TaFM8EZ6m2hpSAN2aHm",
      "include_colab_link": true
    },
    "kernelspec": {
      "name": "python3",
      "display_name": "Python 3"
    },
    "language_info": {
      "name": "python"
    }
  },
  "cells": [
    {
      "cell_type": "markdown",
      "metadata": {
        "id": "view-in-github",
        "colab_type": "text"
      },
      "source": [
        "<a href=\"https://colab.research.google.com/github/ErnestoCash/Ind-4.0/blob/main/predictor_neural.ipynb\" target=\"_parent\"><img src=\"https://colab.research.google.com/assets/colab-badge.svg\" alt=\"Open In Colab\"/></a>"
      ]
    },
    {
      "cell_type": "code",
      "execution_count": null,
      "metadata": {
        "id": "zAXzRWdWdHnM"
      },
      "outputs": [],
      "source": [
        "# Instalar yfinance si no está instalado\n",
        "!pip install yfinance\n",
        "\n",
        "# Importar bibliotecas necesarias\n",
        "import yfinance as yf\n",
        "import numpy as np\n",
        "import pandas as pd\n",
        "from sklearn.model_selection import train_test_split\n",
        "from sklearn.preprocessing import MinMaxScaler\n",
        "from tensorflow.keras.models import Sequential\n",
        "from tensorflow.keras.layers import Dense, LSTM\n",
        "import matplotlib.pyplot as plt"
      ]
    },
    {
      "cell_type": "code",
      "source": [
        "# Función para obtener datos históricos de precios de acciones\n",
        "def obtener_datos(symbol, start_date, end_date):\n",
        "    data = yf.download(symbol, start=start_date, end=end_date)\n",
        "    return data\n",
        "\n",
        "# Definir el símbolo de la acción y el rango de fechas\n",
        "symbol = 'AAPL'\n",
        "start_date = '2020-01-01'\n",
        "end_date = '2021-01-01'\n",
        "\n",
        "# Obtener datos históricos de precios de acciones\n",
        "stock_data = obtener_datos(symbol, start_date, end_date)"
      ],
      "metadata": {
        "id": "tgl9Mm8HdMaQ"
      },
      "execution_count": null,
      "outputs": []
    },
    {
      "cell_type": "code",
      "source": [
        "# Preprocesamiento de datos\n",
        "scaler = MinMaxScaler(feature_range=(0,1))  # Escalador MinMax para escalar los datos entre 0 y 1\n",
        "scaled_data = scaler.fit_transform(stock_data['Close'].values.reshape(-1,1))  # Escalar los datos de precios de cierre\n",
        "\n",
        "# Dividir datos en entrenamiento y prueba\n",
        "train_data, test_data = train_test_split(scaled_data, test_size=0.2, shuffle=False)  # Dividir datos en 80% entrenamiento y 20% prueba"
      ],
      "metadata": {
        "id": "bCND8LbedRIm"
      },
      "execution_count": null,
      "outputs": []
    },
    {
      "cell_type": "code",
      "source": [
        "# Preparar datos para modelo LSTM\n",
        "def preparar_datos(data, time_steps):\n",
        "    X, y = [], []\n",
        "    for i in range(len(data) - time_steps - 1):\n",
        "        X.append(data[i:(i + time_steps), 0])  # Crear secuencias de datos para características (X)\n",
        "        y.append(data[i + time_steps, 0])      # Crear secuencias de datos para la variable objetivo (y)\n",
        "    return np.array(X), np.array(y)"
      ],
      "metadata": {
        "id": "Fbvarf6edXO_"
      },
      "execution_count": null,
      "outputs": []
    },
    {
      "cell_type": "code",
      "source": [
        "time_steps = 60  # Número de pasos de tiempo para considerar en cada secuencia de datos\n",
        "X_train, y_train = preparar_datos(train_data, time_steps)  # Preparar datos de entrenamiento\n",
        "X_test, y_test = preparar_datos(test_data, time_steps)     # Preparar datos de prueba"
      ],
      "metadata": {
        "id": "STGz39-Ldbsq"
      },
      "execution_count": null,
      "outputs": []
    },
    {
      "cell_type": "code",
      "source": [
        "# Reshape de datos para modelo LSTM\n",
        "X_train = X_train.reshape(X_train.shape[0], X_train.shape[1], 1)  # Agregar dimensión para LSTM (muestras, pasos de tiempo, características)\n",
        "X_test = X_test.reshape(X_test.shape[0], X_test.shape[1], 1)"
      ],
      "metadata": {
        "id": "InTf4U3Tde8O"
      },
      "execution_count": null,
      "outputs": []
    },
    {
      "cell_type": "code",
      "source": [
        "# Crear modelo LSTM\n",
        "model = Sequential()  # Inicializar modelo secuencial\n",
        "model.add(LSTM(units=50, return_sequences=True, input_shape=(X_train.shape[1], 1)))  # Capa LSTM con 50 unidades, return_sequences=True para retornar secuencias para capas posteriores, input_shape para especificar forma de entrada\n",
        "model.add(LSTM(units=50, return_sequences=False))  # Capa LSTM con 50 unidades, return_sequences=False para no retornar secuencias para capas posteriores\n",
        "model.add(Dense(units=25))  # Capa densa con 25 neuronas\n",
        "model.add(Dense(units=1))   # Capa de salida con 1 neurona para la predicción del precio"
      ],
      "metadata": {
        "id": "_wQc8HHcdhQ7"
      },
      "execution_count": null,
      "outputs": []
    },
    {
      "cell_type": "code",
      "source": [
        "# Compilar modelo\n",
        "model.compile(optimizer='adam', loss='mean_squared_error')  # Compilar modelo con optimizador Adam y función de pérdida de error cuadrático medio"
      ],
      "metadata": {
        "id": "cmEgmqOPdjyY"
      },
      "execution_count": null,
      "outputs": []
    },
    {
      "cell_type": "code",
      "source": [
        "# Entrenar modelo\n",
        "model.fit(X_train, y_train, epochs=10, batch_size=32)  # Entrenar modelo con 10 épocas y un tamaño de lote de 32"
      ],
      "metadata": {
        "id": "foDVqC89drJt"
      },
      "execution_count": null,
      "outputs": []
    },
    {
      "cell_type": "code",
      "source": [
        "# Obtener predicciones\n",
        "predictions = model.predict(X_test)  # Realizar predicciones con datos de prueba\n",
        "predictions = scaler.inverse_transform(predictions)  # Desescalar las predicciones"
      ],
      "metadata": {
        "id": "srVbQ53pdsqV"
      },
      "execution_count": null,
      "outputs": []
    },
    {
      "cell_type": "code",
      "source": [
        "# Visualizar resultados\n",
        "plt.figure(figsize=(10,6))\n",
        "plt.plot(stock_data.index[-len(predictions):], predictions, color='red', label='Predicted Stock Price')  # Graficar precios predichos\n",
        "plt.plot(stock_data.index[-len(predictions):], scaler.inverse_transform(test_data[-len(predictions):]), color='blue', label='Actual Stock Price')  # Graficar precios reales\n",
        "plt.title('Stock Price Prediction')\n",
        "plt.xlabel('Date')\n",
        "plt.ylabel('Stock Price')\n",
        "plt.legend()\n",
        "plt.show()\n"
      ],
      "metadata": {
        "id": "Jvbo_2njdnta"
      },
      "execution_count": null,
      "outputs": []
    }
  ]
}