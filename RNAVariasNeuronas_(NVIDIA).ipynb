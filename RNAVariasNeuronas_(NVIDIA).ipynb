{
  "nbformat": 4,
  "nbformat_minor": 0,
  "metadata": {
    "colab": {
      "provenance": [],
      "include_colab_link": true
    },
    "kernelspec": {
      "name": "python3",
      "display_name": "Python 3"
    },
    "language_info": {
      "name": "python"
    }
  },
  "cells": [
    {
      "cell_type": "markdown",
      "metadata": {
        "id": "view-in-github",
        "colab_type": "text"
      },
      "source": [
        "<a href=\"https://colab.research.google.com/github/ErnestoCash/Ind-4.0/blob/main/RNAVariasNeuronas_(NVIDIA).ipynb\" target=\"_parent\"><img src=\"https://colab.research.google.com/assets/colab-badge.svg\" alt=\"Open In Colab\"/></a>"
      ]
    },
    {
      "cell_type": "markdown",
      "source": [
        "# Se importan las librerias\n"
      ],
      "metadata": {
        "id": "Oh6xjDumTFAd"
      }
    },
    {
      "cell_type": "code",
      "execution_count": 19,
      "metadata": {
        "id": "FEcHFR4SSQH-"
      },
      "outputs": [],
      "source": [
        "import tensorflow as tf # Es una libreria para intelligencia artifcial se usa en RN\n",
        "import numpy as np # Esta libreria es para BD parecido a hojas de cálculo"
      ]
    },
    {
      "cell_type": "markdown",
      "source": [
        "# Declaramos las variables"
      ],
      "metadata": {
        "id": "GtJnawK9VaYU"
      }
    },
    {
      "cell_type": "code",
      "source": [
        "Tiempo = np.array([1,2,3,4,5,6,7,8,9,10,11,12,13,14,15,16,17,18,19,20,21,22,23,24,25,26,27,28,29,30], dtype = float)\n",
        "ValorAccion= np.array([255.669998,\n",
        "326.76001,\n",
        "294.109985,\n",
        "244.860001,\n",
        "243.850006,\n",
        "272.859985,\n",
        "185.470001,\n",
        "186.720001,\n",
        "151.589996,\n",
        "181.630005,\n",
        "150.940002,\n",
        "121.389999,\n",
        "134.970001,\n",
        "169.229996,\n",
        "146.139999,\n",
        "195.369995,\n",
        "232.160004,\n",
        "277.769989,277.48999,378.339996,423.019989,467.290009,493.549988,434.98999,407.799988,467.700012,495.220001,615.27002,791.119995,884.549988],dtype = float )\n"
      ],
      "metadata": {
        "id": "8LEeuPUzT5Ls"
      },
      "execution_count": 20,
      "outputs": []
    },
    {
      "cell_type": "markdown",
      "source": [
        "# Definimos el número de capas utilizando Keras"
      ],
      "metadata": {
        "id": "eHCRQfdKgORt"
      }
    },
    {
      "cell_type": "code",
      "source": [
        "#capa = tf.keras.layers.Dense(units = 1, input_shape=[1])\n",
        "# modelo = tf.keras.Sequential([capa])\n"
      ],
      "metadata": {
        "id": "m105YBWidide"
      },
      "execution_count": 21,
      "outputs": []
    },
    {
      "cell_type": "code",
      "source": [
        "oculta1 = tf.keras.layers.Dense(units = 5, input_shape=[1])\n",
        "oculta2 = tf.keras.layers.Dense(units = 3)\n",
        "oculta3 = tf.keras.layers.Dense(units = 7)\n",
        "salida=tf.keras.layers.Dense(units = 1)\n",
        "modelo = tf.keras.Sequential([oculta1,oculta2,oculta3,salida])"
      ],
      "metadata": {
        "id": "OSCFqCJFN7wg"
      },
      "execution_count": 22,
      "outputs": []
    },
    {
      "cell_type": "code",
      "source": [
        "oculta1 = tf.keras.layers.Dense(units = 3, input_shape=[1])\n",
        "oculta2 = tf.keras.layers.Dense(units = 3)\n",
        "salida=tf.keras.layers.Dense(units = 1)\n",
        "modelo = tf.keras.Sequential([oculta1,oculta2,salida])"
      ],
      "metadata": {
        "id": "SbY1FXC9h1uM"
      },
      "execution_count": 23,
      "outputs": []
    },
    {
      "cell_type": "markdown",
      "source": [
        "#Compilarlo"
      ],
      "metadata": {
        "id": "C1Ox5TSzrR30"
      }
    },
    {
      "cell_type": "code",
      "source": [
        "modelo.compile(\n",
        "    optimizer=tf.keras.optimizers.Adam(0.01),\n",
        "    loss = 'mean_squared_error'\n",
        ")"
      ],
      "metadata": {
        "id": "h3pECCzNrZpE"
      },
      "execution_count": 24,
      "outputs": []
    },
    {
      "cell_type": "markdown",
      "source": [
        "#Entrenamiento"
      ],
      "metadata": {
        "id": "_uKoOdgxsfQQ"
      }
    },
    {
      "cell_type": "code",
      "source": [
        "print(\"Comenzando el entrenamiento\")\n",
        "historial=modelo.fit(Tiempo,ValorAccion, epochs=50000, verbose=False)\n",
        "print(\"Modelo entrenado\")"
      ],
      "metadata": {
        "colab": {
          "base_uri": "https://localhost:8080/"
        },
        "id": "pY_CwAENsFd5",
        "outputId": "1a7e0c30-9e3d-4d31-b0e9-7f0838998750"
      },
      "execution_count": 25,
      "outputs": [
        {
          "output_type": "stream",
          "name": "stdout",
          "text": [
            "Comenzando el entrenamiento\n",
            "Modelo entrenado\n"
          ]
        }
      ]
    },
    {
      "cell_type": "markdown",
      "source": [
        "#Función de perdida\n",
        "Que tan mal están los resultados en cada vuelta que el modelo repaso los datos"
      ],
      "metadata": {
        "id": "Nd-fc3YktHaw"
      }
    },
    {
      "cell_type": "code",
      "source": [
        "import matplotlib.pyplot as plt\n",
        "plt.xlabel(\"# Epoca\")\n",
        "plt.ylabel(\"Magnitud de pérdida\")\n",
        "plt.plot(historial.history['loss'])"
      ],
      "metadata": {
        "colab": {
          "base_uri": "https://localhost:8080/",
          "height": 467
        },
        "id": "gTn1d_3BtBZW",
        "outputId": "b2954050-4819-434d-e1c2-ed299cee4b6b"
      },
      "execution_count": 26,
      "outputs": [
        {
          "output_type": "execute_result",
          "data": {
            "text/plain": [
              "[<matplotlib.lines.Line2D at 0x78a2bf29f2e0>]"
            ]
          },
          "metadata": {},
          "execution_count": 26
        },
        {
          "output_type": "display_data",
          "data": {
            "text/plain": [
              "<Figure size 640x480 with 1 Axes>"
            ],
            "image/png": "[encoded data removed]"
          },
          "metadata": {}
        }
      ]
    },
    {
      "cell_type": "markdown",
      "source": [
        "# Hacemos Predicciones"
      ],
      "metadata": {
        "id": "eyM1e2vjuJsu"
      }
    },
    {
      "cell_type": "code",
      "source": [
        "print(\"Hagamos una predicción\")\n",
        "resultado = modelo.predict([31,32,33,34])\n",
        "print(\"El resultado es \" + str(resultado) + \"ValorAcción NVIDIA\")"
      ],
      "metadata": {
        "colab": {
          "base_uri": "https://localhost:8080/"
        },
        "id": "zJU9KlAbuBWe",
        "outputId": "725bf0ee-58ca-4114-87a6-541e152c32dc"
      },
      "execution_count": 27,
      "outputs": [
        {
          "output_type": "stream",
          "name": "stdout",
          "text": [
            "Hagamos una predicción\n",
            "1/1 [==============================] - 0s 88ms/step\n",
            "El resultado es [[576.8882]\n",
            " [592.7997]\n",
            " [608.7112]\n",
            " [624.6227]]ValorAcción NVIDIA\n"
          ]
        }
      ]
    }
  ]
}