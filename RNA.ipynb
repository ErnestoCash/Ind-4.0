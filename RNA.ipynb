{
  "nbformat": 4,
  "nbformat_minor": 0,
  "metadata": {
    "colab": {
      "provenance": [],
      "authorship_tag": "ABX9TyPmFkOodGwAB1jhfjPvRO06",
      "include_colab_link": true
    },
    "kernelspec": {
      "name": "python3",
      "display_name": "Python 3"
    },
    "language_info": {
      "name": "python"
    }
  },
  "cells": [
    {
      "cell_type": "markdown",
      "metadata": {
        "id": "view-in-github",
        "colab_type": "text"
      },
      "source": [
        "<a href=\"https://colab.research.google.com/github/ErnestoCash/Ind-4.0/blob/main/RNA.ipynb\" target=\"_parent\"><img src=\"https://colab.research.google.com/assets/colab-badge.svg\" alt=\"Open In Colab\"/></a>"
      ]
    },
    {
      "cell_type": "code",
      "execution_count": null,
      "metadata": {
        "id": "h0z5UGX4EXMv"
      },
      "outputs": [],
      "source": [
        "import tensorflow as tf # La libreria de AI que me permite manejar RNS\n",
        "import numpy as np # Libreria me permite manejar vectores de datos"
      ]
    },
    {
      "cell_type": "code",
      "source": [
        "Tiempo = np.array([1,2,3,4,5,6,7,8], dtype=float)\n",
        "ValorAccion=np.array([4406.5,4364.68,3616.63,4148.92,4223.41,3436.5,2703.62], dtype=float)"
      ],
      "metadata": {
        "id": "oaeo9WJQ41Ng"
      },
      "execution_count": null,
      "outputs": []
    },
    {
      "cell_type": "markdown",
      "source": [
        "definimos el número de capas utilizando KERAS"
      ],
      "metadata": {
        "id": "z4ogSG80599e"
      }
    },
    {
      "cell_type": "code",
      "source": [
        "capa = tf.keras.layers.Dense(units= 1, input_shape= [1])\n",
        "modelo = tf.keras.Sequential([capa])"
      ],
      "metadata": {
        "id": "iXcFw0S_6Cs2"
      },
      "execution_count": null,
      "outputs": []
    },
    {
      "cell_type": "markdown",
      "source": [
        "Compilar"
      ],
      "metadata": {
        "id": "ay20WwWN6TlS"
      }
    },
    {
      "cell_type": "code",
      "source": [
        "modelo.compile(\n",
        "    optimizer=tf.keras.optimizers.Adam(0.1),\n",
        "    loss = 'mean_squared_error'\n",
        ")"
      ],
      "metadata": {
        "id": "mAhXTR4u6R00"
      },
      "execution_count": null,
      "outputs": []
    },
    {
      "cell_type": "markdown",
      "source": [
        "Entrenamiento"
      ],
      "metadata": {
        "id": "L-DAiPgu63Sd"
      }
    },
    {
      "cell_type": "code",
      "source": [
        "print(\"Comenzando el entrenamiento\")\n",
        "historial=modelo.fit(Tiempo,ValorAccion,epochs=500,verbose=False)\n",
        "print(\"modelo entrenado\")"
      ],
      "metadata": {
        "id": "RT332RWD65Uv"
      },
      "execution_count": null,
      "outputs": []
    },
    {
      "cell_type": "markdown",
      "source": [
        "FUNCIÓN PERDIDA"
      ],
      "metadata": {
        "id": "zLIpMApr7U9q"
      }
    },
    {
      "cell_type": "code",
      "source": [
        "import matplotlib.pyplot as plt\n",
        "plt.xlabel(\"# de repasos de los datos\")\n",
        "plt.ylabel(\"Magnitud de la perdida\")"
      ],
      "metadata": {
        "id": "kWJyUhDP7ZCE"
      },
      "execution_count": null,
      "outputs": []
    }
  ]
}