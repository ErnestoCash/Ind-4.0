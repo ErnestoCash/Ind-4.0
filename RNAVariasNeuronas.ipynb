{
  "nbformat": 4,
  "nbformat_minor": 0,
  "metadata": {
    "colab": {
      "provenance": [],
      "include_colab_link": true
    },
    "kernelspec": {
      "name": "python3",
      "display_name": "Python 3"
    },
    "language_info": {
      "name": "python"
    }
  },
  "cells": [
    {
      "cell_type": "markdown",
      "metadata": {
        "id": "view-in-github",
        "colab_type": "text"
      },
      "source": [
        "<a href=\"https://colab.research.google.com/github/ErnestoCash/Ind-4.0/blob/main/RNAVariasNeuronas.ipynb\" target=\"_parent\"><img src=\"https://colab.research.google.com/assets/colab-badge.svg\" alt=\"Open In Colab\"/></a>"
      ]
    },
    {
      "cell_type": "markdown",
      "source": [
        "# Se importan las librerias\n"
      ],
      "metadata": {
        "id": "Oh6xjDumTFAd"
      }
    },
    {
      "cell_type": "code",
      "execution_count": null,
      "metadata": {
        "id": "FEcHFR4SSQH-"
      },
      "outputs": [],
      "source": [
        "import tensorflow as tf # Es una libreria para intelligencia artifcial se usa en RN\n",
        "import numpy as np # Esta libreria es para BD parecido a hojas de cálculo"
      ]
    },
    {
      "cell_type": "markdown",
      "source": [
        "# Declaramos las variables"
      ],
      "metadata": {
        "id": "GtJnawK9VaYU"
      }
    },
    {
      "cell_type": "code",
      "source": [
        "Tiempo = np.array([1,2,3,4,5,6,7,8,9,10], dtype = float)\n",
        "ValorAccion= np.array([214.98,215.31,207.47,197.08,191.30,177.59,190.72,195.95, 190.95,194.42],dtype = float )\n"
      ],
      "metadata": {
        "id": "8LEeuPUzT5Ls"
      },
      "execution_count": null,
      "outputs": []
    },
    {
      "cell_type": "markdown",
      "source": [
        "# Definimos el número de capas utilizando Keras"
      ],
      "metadata": {
        "id": "eHCRQfdKgORt"
      }
    },
    {
      "cell_type": "code",
      "source": [
        "#capa = tf.keras.layers.Dense(units = 1, input_shape=[1])\n",
        "# modelo = tf.keras.Sequential([capa])\n"
      ],
      "metadata": {
        "id": "m105YBWidide"
      },
      "execution_count": null,
      "outputs": []
    },
    {
      "cell_type": "code",
      "source": [
        "oculta1 = tf.keras.layers.Dense(units = 5, input_shape=[1])\n",
        "oculta2 = tf.keras.layers.Dense(units = 3)\n",
        "oculta3 = tf.keras.layers.Dense(units = 7)\n",
        "salida=tf.keras.layers.Dense(units = 1)\n",
        "modelo = tf.keras.Sequential([oculta1,oculta2,oculta3,salida])"
      ],
      "metadata": {
        "id": "OSCFqCJFN7wg"
      },
      "execution_count": null,
      "outputs": []
    },
    {
      "cell_type": "code",
      "source": [
        "oculta1 = tf.keras.layers.Dense(units = 3, input_shape=[1])\n",
        "oculta2 = tf.keras.layers.Dense(units = 3)\n",
        "salida=tf.keras.layers.Dense(units = 1)\n",
        "modelo = tf.keras.Sequential([oculta1,oculta2,salida])"
      ],
      "metadata": {
        "id": "SbY1FXC9h1uM"
      },
      "execution_count": null,
      "outputs": []
    },
    {
      "cell_type": "markdown",
      "source": [
        "#Compilarlo"
      ],
      "metadata": {
        "id": "C1Ox5TSzrR30"
      }
    },
    {
      "cell_type": "code",
      "source": [
        "modelo.compile(\n",
        "    optimizer=tf.keras.optimizers.Adam(0.1),\n",
        "    loss = 'mean_squared_error'\n",
        ")"
      ],
      "metadata": {
        "id": "h3pECCzNrZpE"
      },
      "execution_count": null,
      "outputs": []
    },
    {
      "cell_type": "markdown",
      "source": [
        "#Entrenamiento"
      ],
      "metadata": {
        "id": "_uKoOdgxsfQQ"
      }
    },
    {
      "cell_type": "code",
      "source": [
        "print(\"Comenzando el entrenamiento\")\n",
        "historial=modelo.fit(Tiempo,ValorAccion, epochs=10000, verbose=False)\n",
        "print(\"Modelo entrenado\")"
      ],
      "metadata": {
        "colab": {
          "base_uri": "https://localhost:8080/"
        },
        "id": "pY_CwAENsFd5",
        "outputId": "b9745abf-9373-4163-d292-764e351a2cdf"
      },
      "execution_count": null,
      "outputs": [
        {
          "output_type": "stream",
          "name": "stdout",
          "text": [
            "Comenzando el entrenamiento\n",
            "Modelo entrenado\n"
          ]
        }
      ]
    },
    {
      "cell_type": "markdown",
      "source": [
        "#Función de perdida\n",
        "Que tan mal están los resultados en cada vuelta que el modelo repaso los datos"
      ],
      "metadata": {
        "id": "Nd-fc3YktHaw"
      }
    },
    {
      "cell_type": "code",
      "source": [
        "import matplotlib.pyplot as plt\n",
        "plt.xlabel(\"# Epoca\")\n",
        "plt.ylabel(\"Magnitud de pérdida\")\n",
        "plt.plot(historial.history['loss'])"
      ],
      "metadata": {
        "colab": {
          "base_uri": "https://localhost:8080/",
          "height": 467
        },
        "id": "gTn1d_3BtBZW",
        "outputId": "d50edfac-d8aa-4db7-a738-1ef23d65b60b"
      },
      "execution_count": null,
      "outputs": [
        {
          "output_type": "execute_result",
          "data": {
            "text/plain": [
              "[<matplotlib.lines.Line2D at 0x7fa72f779ae0>]"
            ]
          },
          "metadata": {},
          "execution_count": 7
        },
        {
          "output_type": "display_data",
          "data": {
            "text/plain": [
              "<Figure size 640x480 with 1 Axes>"
            ],
            "image/png": "[encoded data removed]"
          },
          "metadata": {}
        }
      ]
    },
    {
      "cell_type": "markdown",
      "source": [
        "# Hacemos Predicciones"
      ],
      "metadata": {
        "id": "eyM1e2vjuJsu"
      }
    },
    {
      "cell_type": "code",
      "source": [
        "print(\"Hagamos una predicción\")\n",
        "resultado = modelo.predict([11])\n",
        "print(\"El resultado es \" + str(resultado) + \"ValorAcción\")"
      ],
      "metadata": {
        "colab": {
          "base_uri": "https://localhost:8080/"
        },
        "id": "zJU9KlAbuBWe",
        "outputId": "c75926e1-d451-46fa-b8df-f70b56b67bf9"
      },
      "execution_count": null,
      "outputs": [
        {
          "output_type": "stream",
          "name": "stdout",
          "text": [
            "Hagamos una predicción\n",
            "1/1 [==============================] - 0s 109ms/step\n",
            "El resultado es [[182.72964]]ValorAcción\n"
          ]
        }
      ]
    }
  ]
}